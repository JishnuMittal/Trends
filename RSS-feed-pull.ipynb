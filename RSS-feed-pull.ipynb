{
 "cells": [
  {
   "cell_type": "code",
   "execution_count": 1,
   "id": "057f9912",
   "metadata": {},
   "outputs": [],
   "source": [
    "import feedparser"
   ]
  },
  {
   "cell_type": "code",
   "execution_count": 2,
   "id": "2855b47a",
   "metadata": {},
   "outputs": [],
   "source": [
    "import yake"
   ]
  },
  {
   "cell_type": "code",
   "execution_count": 3,
   "id": "9f0118e5",
   "metadata": {},
   "outputs": [],
   "source": [
    "import json"
   ]
  },
  {
   "cell_type": "code",
   "execution_count": 4,
   "id": "52928a9b",
   "metadata": {},
   "outputs": [
    {
     "name": "stdout",
     "output_type": "stream",
     "text": [
      "UK and India agree trade deal after three years of talks\n",
      "Labour MPs' rage over election results simmers on\n",
      "Sycamore Gap accused thought it was 'just a tree'\n",
      "'No food when I gave birth': Malnutrition rises in Gaza as Israeli blockade enters third month\n",
      "King and Queen unveil Coronation portraits\n",
      "Germany's Merz becomes chancellor after surviving historic vote failure\n",
      "Israel attacks main airport in Yemen's capital Sanaa\n",
      "Mark Gordon to represent himself in court, baby death retrial told\n",
      "Tributes paid to two riders killed in 11-bike British Supersport Championship crash\n",
      "Ronaldo's son gets first Portugal Under-15s call-up\n",
      "What have we learned from Grand Theft Auto 6's second trailer?\n",
      "Deliveroo's takeover by US rival shows UK still can't hang on to big firms\n",
      "27 of the best looks from Met Gala 2025\n",
      "Attenborough at 99 delivers 'greatest message he's ever told'\n",
      "Online orders still paused and spaces on shelves – what we know about the M&S cyber chaos\n",
      "Walkie talkies and total lockdown: How the conclave stays the world's most secretive vote\n",
      "Americans used to be steadfast in their support for Israel. Those days are gone\n",
      "Abuse victims question if Pope Francis did enough to stop predators\n",
      "Poppies pour across Tower of London to mark VE Day\n",
      "Visa crackdown on nationalities considered most likely to overstay in UK\n",
      "No 10 resists growing calls within Labour for winter fuel rethink\n",
      "Rebekah Vardy must pay £1.4m of Coleen Rooney's 'Wagatha' legal costs\n",
      "Scotland's first minister vows action on GP appointment 'lottery'\n",
      "Ex-footballer 'helped so many people' before death\n",
      "Man and woman charged with murder of baby\n",
      "BBC News app\n",
      "Old Newscast: The Fall of the Berlin Wall, 1989 (Part 1)\n",
      "The Interview: Is Prince Harry's safety at risk?\n",
      "Stunning stats and 'Ronaldo behaviour' - is Yamal cut out to rival Messi?\n",
      "Real trying to sign Alexander-Arnold in time for Club World Cup\n",
      "Fatal Supersport crash - what happened and what next?\n",
      "Play Champions League Squares during Inter Milan v Barcelona\n",
      "Raducanu set-up 'working well' but jigsaw not complete\n",
      "Ronaldo's son gets first Portugal Under-15s call-up\n",
      "Trump’s Return to Power Elevates Ever Fringier Conspiracy Theories\n",
      "Why Democrats Joined Republicans to Block a California Climate Policy\n",
      "Who Is Friedrich Merz, Germany’s New Chancellor?\n",
      "G.O.P. Targets a Medicaid Loophole Used by 49 States to Grab Federal Money\n",
      "15 Unforgettable Looks at the 2025 Met Gala: Zendaya, Diana Ross and More\n",
      "Stars Hit the 2025 Met Gala After-Parties, From Jenna Ortega to Lisa\n",
      "Andre 3000’s Met Gala Piano Was Both a Fashion Statement and an Album Teaser\n",
      "How Democrats Hope to Overcome a Daunting 2026 Senate Map\n",
      "The Surprising Ways That Siblings Shape Our Lives\n",
      "Israel Bombs Yemen’s Main Airport in Retaliation for Houthi Strike\n",
      "Israel Plans to Seize Control of Gaza’s Aid. Here’s How That Could Look.\n",
      "Trump’s Wishes Aside, Censoring Racial History May Prove Difficult\n",
      "National African American Museum Faces Uncertainty Without Its Leader\n",
      "Tense Standoff at New ICE Detention Center as Mayor Joins Protest\n",
      "‘The Only Person in the World Claiming to Be the Pope Right Now’\n",
      "Who Will Be the Next Pope? Here Are Some Possible Candidates to Succeed Francis.\n",
      "Trump’s Third-Term Musings Are Part of a Pattern\n",
      "I Was Failing at Work and Motherhood. Then I Met Joan Darling.\n",
      "A Dandy Night\n",
      "Tesla Sales Fall in Germany and U.K. to Lowest Point in 2 Years\n",
      "A Haven for Civilians in Sudan Is Attacked for a Third Day\n",
      "With Acts of Subversion, Some Russians Fight Propaganda in Schools\n",
      "King Charles III and Queen Camilla Unveil Coronation Portraits\n"
     ]
    }
   ],
   "source": [
    "rss_urls = [\n",
    "    \"http://feeds.bbci.co.uk/news/rss.xml\",\n",
    "    \"https://rss.nytimes.com/services/xml/rss/nyt/HomePage.xml\"\n",
    "]\n",
    "\n",
    "results = []\n",
    "\n",
    "for url in rss_urls:\n",
    "    feed = feedparser.parse(url)\n",
    "    for entry in feed.entries:\n",
    "        title = entry.title\n",
    "        print(title)\n",
    "        results.append(title)"
   ]
  },
  {
   "cell_type": "code",
   "execution_count": 5,
   "id": "3ef62101",
   "metadata": {},
   "outputs": [
    {
     "name": "stdout",
     "output_type": "stream",
     "text": [
      "['UK and India agree trade deal after three years of talks', \"Labour MPs' rage over election results simmers on\", \"Sycamore Gap accused thought it was 'just a tree'\", \"'No food when I gave birth': Malnutrition rises in Gaza as Israeli blockade enters third month\", 'King and Queen unveil Coronation portraits', \"Germany's Merz becomes chancellor after surviving historic vote failure\", \"Israel attacks main airport in Yemen's capital Sanaa\", 'Mark Gordon to represent himself in court, baby death retrial told', 'Tributes paid to two riders killed in 11-bike British Supersport Championship crash', \"Ronaldo's son gets first Portugal Under-15s call-up\", \"What have we learned from Grand Theft Auto 6's second trailer?\", \"Deliveroo's takeover by US rival shows UK still can't hang on to big firms\", '27 of the best looks from Met Gala 2025', \"Attenborough at 99 delivers 'greatest message he's ever told'\", 'Online orders still paused and spaces on shelves – what we know about the M&S cyber chaos', \"Walkie talkies and total lockdown: How the conclave stays the world's most secretive vote\", 'Americans used to be steadfast in their support for Israel. Those days are gone', 'Abuse victims question if Pope Francis did enough to stop predators', 'Poppies pour across Tower of London to mark VE Day', 'Visa crackdown on nationalities considered most likely to overstay in UK', 'No 10 resists growing calls within Labour for winter fuel rethink', \"Rebekah Vardy must pay £1.4m of Coleen Rooney's 'Wagatha' legal costs\", \"Scotland's first minister vows action on GP appointment 'lottery'\", \"Ex-footballer 'helped so many people' before death\", 'Man and woman charged with murder of baby', 'BBC News app', 'Old Newscast: The Fall of the Berlin Wall, 1989 (Part 1)', \"The Interview: Is Prince Harry's safety at risk?\", \"Stunning stats and 'Ronaldo behaviour' - is Yamal cut out to rival Messi?\", 'Real trying to sign Alexander-Arnold in time for Club World Cup', 'Fatal Supersport crash - what happened and what next?', 'Play Champions League Squares during Inter Milan v Barcelona', \"Raducanu set-up 'working well' but jigsaw not complete\", \"Ronaldo's son gets first Portugal Under-15s call-up\", 'Trump’s Return to Power Elevates Ever Fringier Conspiracy Theories', 'Why Democrats Joined Republicans to Block a California Climate Policy', 'Who Is Friedrich Merz, Germany’s New Chancellor?', 'G.O.P. Targets a Medicaid Loophole Used by 49 States to Grab Federal Money', '15 Unforgettable Looks at the 2025 Met Gala: Zendaya, Diana Ross and More', 'Stars Hit the 2025 Met Gala After-Parties, From Jenna Ortega to Lisa', 'Andre 3000’s Met Gala Piano Was Both a Fashion Statement and an Album Teaser', 'How Democrats Hope to Overcome a Daunting 2026 Senate Map', 'The Surprising Ways That Siblings Shape Our Lives', 'Israel Bombs Yemen’s Main Airport in Retaliation for Houthi Strike', 'Israel Plans to Seize Control of Gaza’s Aid. Here’s How That Could Look.', 'Trump’s Wishes Aside, Censoring Racial History May Prove Difficult', 'National African American Museum Faces Uncertainty Without Its Leader', 'Tense Standoff at New ICE Detention Center as Mayor Joins Protest', '‘The Only Person in the World Claiming to Be the Pope Right Now’', 'Who Will Be the Next Pope? Here Are Some Possible Candidates to Succeed Francis.', 'Trump’s Third-Term Musings Are Part of a Pattern', 'I Was Failing at Work and Motherhood. Then I Met Joan Darling.', 'A Dandy Night', 'Tesla Sales Fall in Germany and U.K. to Lowest Point in 2 Years', 'A Haven for Civilians in Sudan Is Attacked for a Third Day', 'With Acts of Subversion, Some Russians Fight Propaganda in Schools', 'King Charles III and Queen Camilla Unveil Coronation Portraits']\n"
     ]
    }
   ],
   "source": [
    "print(results)"
   ]
  },
  {
   "cell_type": "code",
   "execution_count": 6,
   "id": "4dc478cd",
   "metadata": {},
   "outputs": [],
   "source": [
    "json_title_results=json.dumps(results)"
   ]
  },
  {
   "cell_type": "code",
   "execution_count": 7,
   "id": "14049592",
   "metadata": {},
   "outputs": [
    {
     "name": "stdout",
     "output_type": "stream",
     "text": [
      "[\"UK and India agree trade deal after three years of talks\", \"Labour MPs' rage over election results simmers on\", \"Sycamore Gap accused thought it was 'just a tree'\", \"'No food when I gave birth': Malnutrition rises in Gaza as Israeli blockade enters third month\", \"King and Queen unveil Coronation portraits\", \"Germany's Merz becomes chancellor after surviving historic vote failure\", \"Israel attacks main airport in Yemen's capital Sanaa\", \"Mark Gordon to represent himself in court, baby death retrial told\", \"Tributes paid to two riders killed in 11-bike British Supersport Championship crash\", \"Ronaldo's son gets first Portugal Under-15s call-up\", \"What have we learned from Grand Theft Auto 6's second trailer?\", \"Deliveroo's takeover by US rival shows UK still can't hang on to big firms\", \"27 of the best looks from Met Gala 2025\", \"Attenborough at 99 delivers 'greatest message he's ever told'\", \"Online orders still paused and spaces on shelves \\u2013 what we know about the M&S cyber chaos\", \"Walkie talkies and total lockdown: How the conclave stays the world's most secretive vote\", \"Americans used to be steadfast in their support for Israel. Those days are gone\", \"Abuse victims question if Pope Francis did enough to stop predators\", \"Poppies pour across Tower of London to mark VE Day\", \"Visa crackdown on nationalities considered most likely to overstay in UK\", \"No 10 resists growing calls within Labour for winter fuel rethink\", \"Rebekah Vardy must pay \\u00a31.4m of Coleen Rooney's 'Wagatha' legal costs\", \"Scotland's first minister vows action on GP appointment 'lottery'\", \"Ex-footballer 'helped so many people' before death\", \"Man and woman charged with murder of baby\", \"BBC News app\", \"Old Newscast: The Fall of the Berlin Wall, 1989 (Part 1)\", \"The Interview: Is Prince Harry's safety at risk?\", \"Stunning stats and 'Ronaldo behaviour' - is Yamal cut out to rival Messi?\", \"Real trying to sign Alexander-Arnold in time for Club World Cup\", \"Fatal Supersport crash - what happened and what next?\", \"Play Champions League Squares during Inter Milan v Barcelona\", \"Raducanu set-up 'working well' but jigsaw not complete\", \"Ronaldo's son gets first Portugal Under-15s call-up\", \"Trump\\u2019s Return to Power Elevates Ever Fringier Conspiracy Theories\", \"Why Democrats Joined Republicans to Block a California Climate Policy\", \"Who Is Friedrich Merz, Germany\\u2019s New Chancellor?\", \"G.O.P. Targets a Medicaid Loophole Used by 49 States to Grab Federal Money\", \"15 Unforgettable Looks at the 2025 Met Gala: Zendaya, Diana Ross and More\", \"Stars Hit the 2025 Met Gala After-Parties, From Jenna Ortega to Lisa\", \"Andre 3000\\u2019s Met Gala Piano Was Both a Fashion Statement and an Album Teaser\", \"How Democrats Hope to Overcome a Daunting 2026 Senate Map\", \"The Surprising Ways That Siblings Shape Our Lives\", \"Israel Bombs Yemen\\u2019s Main Airport in Retaliation for Houthi Strike\", \"Israel Plans to Seize Control of Gaza\\u2019s Aid. Here\\u2019s How That Could Look.\", \"Trump\\u2019s Wishes Aside, Censoring Racial History May Prove Difficult\", \"National African American Museum Faces Uncertainty Without Its Leader\", \"Tense Standoff at New ICE Detention Center as Mayor Joins Protest\", \"\\u2018The Only Person in the World Claiming to Be the Pope Right Now\\u2019\", \"Who Will Be the Next Pope? Here Are Some Possible Candidates to Succeed Francis.\", \"Trump\\u2019s Third-Term Musings Are Part of a Pattern\", \"I Was Failing at Work and Motherhood. Then I Met Joan Darling.\", \"A Dandy Night\", \"Tesla Sales Fall in Germany and U.K. to Lowest Point in 2 Years\", \"A Haven for Civilians in Sudan Is Attacked for a Third Day\", \"With Acts of Subversion, Some Russians Fight Propaganda in Schools\", \"King Charles III and Queen Camilla Unveil Coronation Portraits\"]\n"
     ]
    }
   ],
   "source": [
    "print(json_title_results)"
   ]
  },
  {
   "cell_type": "code",
   "execution_count": null,
   "id": "edb1163b",
   "metadata": {},
   "outputs": [],
   "source": []
  }
 ],
 "metadata": {
  "kernelspec": {
   "display_name": "Python 3 (ipykernel)",
   "language": "python",
   "name": "python3"
  },
  "language_info": {
   "codemirror_mode": {
    "name": "ipython",
    "version": 3
   },
   "file_extension": ".py",
   "mimetype": "text/x-python",
   "name": "python",
   "nbconvert_exporter": "python",
   "pygments_lexer": "ipython3",
   "version": "3.9.12"
  }
 },
 "nbformat": 4,
 "nbformat_minor": 5
}
